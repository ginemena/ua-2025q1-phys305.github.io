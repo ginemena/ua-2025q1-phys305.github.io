{
 "cells": [
  {
   "cell_type": "markdown",
   "id": "0",
   "metadata": {},
   "source": [
    "# ODE integrators II: implicit and symplectic methods"
   ]
  },
  {
   "cell_type": "markdown",
   "id": "1",
   "metadata": {},
   "source": [
    "## Numerical Stability of Integrators\n",
    "\n",
    "Numerical Stability in the context of Ordinary Differential Equation (ODE) solvers refers to the ability of a numerical method to control the growth of errors introduced during the iterative process of approximation.\n",
    "A method is considered stable if the numerical errors do not amplify uncontrollably as computations proceed.\n",
    "This concept is crucial for ensuring that the numerical solution remains meaningful and behaves similarly to the true solution, especially over long integration intervals."
   ]
  },
  {
   "cell_type": "markdown",
   "id": "2",
   "metadata": {},
   "source": [
    "### Definition and Importance\n",
    "\n",
    "A numerical method is stable for a given problem if the errors---whether from truncation or round-off---do not grow exponentially with each time step.\n",
    "Stability ensures that the numerical solution does not diverge from the true solution due to the accumulation of numerical errors.\n",
    "This is particularly important in long-term simulations where even small errors can accumulate to produce significant deviations from the true behavior of the system."
   ]
  },
  {
   "cell_type": "markdown",
   "id": "3",
   "metadata": {},
   "source": [
    "### Stability vs. Accuracy\n",
    "\n",
    "It's essential to distinguish between stability and accuracy:\n",
    "* Stability: Pertains to the boundedness of errors over time.\n",
    "  A stable method ensures that errors remain controlled and do not grow exponentially, preventing the solution from becoming meaningless.\n",
    "* Accuracy: Refers to how closely the numerical solution approximates the exact solution.\n",
    "  An accurate method minimizes the difference between the numerical and true solutions.\n",
    "\n",
    "A method can be stable but not accurate, meaning it controls error growth but doesn't closely follow the exact solution.\n",
    "Conversely, a method can be accurate but unstable, producing precise results initially but diverging over time due to uncontrolled error growth.\n",
    "For reliable numerical solutions, both stability and accuracy are required."
   ]
  },
  {
   "cell_type": "markdown",
   "id": "4",
   "metadata": {},
   "source": [
    "### Stability Regions for Explicit Methods\n",
    "\n",
    "To analyze the stability of numerical integrators, we commonly use the linear test equation introduced in previous lectures:\n",
    "\\begin{align}\n",
    "\\frac{dx}{dt} = \\lambda x\n",
    "\\end{align}\n",
    "where $\\lambda \\in \\mathbb{C}$.\n",
    "The exact solution to this ODE is:\n",
    "\\begin{align}\n",
    "x(t) = x_0 e^{\\lambda t}.\n",
    "\\end{align}\n",
    "For a numerical method to be stable when applied to this equation, it must ensure that the numerical errors do not grow exponentially.\n",
    "This is evaluated using the concept of the **stability region**."
   ]
  },
  {
   "cell_type": "markdown",
   "id": "5",
   "metadata": {},
   "source": [
    "### Forward Euler Method Stability\n",
    "\n",
    "In [ODE I](../14/notes.ipynb), we learned that the Forward Euler method is the simplest explicit numerical integrator for solving ODEs.\n",
    "Its update formula for the linear test equation is derived as follows:\n",
    "\n",
    "Starting with the Forward Euler update:\n",
    "\\begin{align}\n",
    "x_{n+1} = x_n + \\Delta t \\cdot f(x_n, t_n)\n",
    "\\end{align}\n",
    "For the linear test equation $f(x, t) = \\lambda x$, this becomes:\n",
    "\\begin{align}\n",
    "x_{n+1} = x_n + \\Delta t \\cdot \\lambda x_n = (1 + \\lambda \\Delta t) x_n\n",
    "\\end{align}\n",
    "Here, the amplification factor $R(z)$ is defined as:\n",
    "\\begin{align}\n",
    "R(z) = 1 + z \\quad \\text{where} \\quad z = \\lambda \\Delta t\n",
    "\\end{align}\n",
    "The stability condition requires that:\n",
    "\\begin{align}\n",
    "|R(z)| \\leq 1\n",
    "\\end{align}\n",
    "Substituting the amplification factor:\n",
    "\\begin{align}\n",
    "|1 + z| \\leq 1\n",
    "\\end{align}\n",
    "This condition defines the stability region for the Forward Euler method."
   ]
  },
  {
   "cell_type": "markdown",
   "id": "6",
   "metadata": {},
   "source": [
    "To better understand the stability regions, we can visualize them in the complex plane.\n",
    "The stability region for Forward Euler is a circle centered at $(-1, 0)$ with a radius of 1."
   ]
  },
  {
   "cell_type": "code",
   "execution_count": 1,
   "id": "7",
   "metadata": {},
   "outputs": [],
   "source": [
    "import numpy as np\n",
    "from matplotlib import pyplot as plt\n",
    "import matplotlib.patches as mpatches"
   ]
  },
  {
   "cell_type": "code",
   "execution_count": 2,
   "id": "8",
   "metadata": {},
   "outputs": [],
   "source": [
    "# Define the grid for the complex plane\n",
    "Re = np.linspace(-3, 3, 601)\n",
    "Im = np.linspace(-3, 3, 601)\n",
    "Re, Im = np.meshgrid(Re, Im)\n",
    "Z = Re + 1j * Im\n",
    "\n",
    "# Forward Euler stability condition |1 + Z| <= 1\n",
    "abs_R_fE = np.abs(1 + Z)"
   ]
  },
  {
   "cell_type": "code",
   "execution_count": 3,
   "id": "9",
   "metadata": {},
   "outputs": [
    {
     "data": {
      "text/plain": [
       "<matplotlib.legend.Legend at 0x7aac3ca26510>"
      ]
     },
     "execution_count": 3,
     "metadata": {},
     "output_type": "execute_result"
    },
    {
     "data": {
      "image/png": "[encoded data removed]",
      "text/plain": [
       "<Figure size 640x480 with 1 Axes>"
      ]
     },
     "metadata": {},
     "output_type": "display_data"
    }
   ],
   "source": [
    "# Plotting\n",
    "plt.contour (Re, Im, abs_R_fE, levels=[1],    colors=['red'], linewidths=2, linestyles='-')\n",
    "plt.contourf(Re, Im, abs_R_fE, levels=[0, 1], colors=['red'], alpha=0.1)\n",
    "\n",
    "plt.title('Stability Region for Forward Euler Method')\n",
    "plt.xlabel(r'Re($\\lambda \\Delta t$)')\n",
    "plt.ylabel(r'Im($\\lambda \\Delta t$)')\n",
    "plt.gca().set_aspect('equal')\n",
    "\n",
    "# Adding legend manually\n",
    "import matplotlib.patches as mpatches\n",
    "blue_patch = mpatches.Patch(color='red', label='Forward Euler')\n",
    "plt.legend(handles=[blue_patch])"
   ]
  },
  {
   "cell_type": "markdown",
   "id": "10",
   "metadata": {},
   "source": [
    "The stability region plot leads to:\n",
    "* The Forward Euler method is conditionally stable, meaning it is only stable within a specific region of the complex plane.\n",
    "* Specifically, it is stable for values of $\\lambda \\Delta t$ that lie within the circle centered at $(-1, 0)$ with a radius of 1.\n",
    "* For real positive $\\lambda$ (i.e., $\\lambda > 0$), the Forward Euler method becomes **unconditionally unstable** because such values fall outside the stability region.\n",
    "  This implies that even with small time steps, the method cannot control error growth for these cases."
   ]
  },
  {
   "cell_type": "markdown",
   "id": "11",
   "metadata": {},
   "source": [
    "The implication is:\n",
    "* When dealing with ODEs where $\\lambda > 0$, especially in stiff equations, the Forward Euler method may lead to solutions that diverge from the true behavior due to uncontrolled error amplification.\n",
    "* This limitation necessitates the use of more stable methods, such as implicit integrators, which will be discussed in subsequent sections."
   ]
  },
  {
   "cell_type": "markdown",
   "id": "12",
   "metadata": {},
   "source": [
    "### Stability Analysis Using Simple Harmonic Oscillator\n",
    "\n",
    "From the previous lecture [ODE I](ode1.md), we also solved the simple harmonic oscillator:\n",
    "\\begin{align}\n",
    "\\frac{d}{dt}\\begin{bmatrix} \\theta(t) \\\\ \\Omega(t) \\end{bmatrix} =\n",
    "\\begin{bmatrix} \\Omega(t) \\\\ -\\frac{g}{l} \\theta(t) \\end{bmatrix} =\n",
    "\\begin{bmatrix} 0 & 1 \\\\ -\\frac{g}{l} & 0 \\end{bmatrix}\n",
    "\\begin{bmatrix} \\theta(t) \\\\ \\Omega(t) \\end{bmatrix}\n",
    "\\end{align}\n",
    "using the forward Euler method:\n",
    "\\begin{align}\n",
    "\\begin{bmatrix} \\theta_{n+1} \\\\ \\Omega_{n+1} \\end{bmatrix} =\n",
    "\\begin{bmatrix} \\theta_{n} \\\\ \\Omega_{n} \\end{bmatrix} +\n",
    "\\begin{bmatrix} 0 & 1 \\\\ -\\frac{g}{l} & 0 \\end{bmatrix}\n",
    "\\begin{bmatrix} \\theta_{n} \\\\ \\Omega_{n} \\end{bmatrix} =\n",
    "\\begin{bmatrix} 1 & \\Delta t \\\\ -\\frac{g}{l}\\Delta t & 1 \\end{bmatrix}\n",
    "\\begin{bmatrix} \\theta_{n} \\\\ \\Omega_{n} \\end{bmatrix}\n",
    "\\end{align}\n",
    "The \"amplification factor\" is no longer a scalar but a matrix.\n",
    "The stability condition $|R| \\le 1$ become\n",
    "\\begin{align}\n",
    "\\det \\begin{bmatrix} 1 & \\Delta t \\\\ -\\frac{g}{l}\\Delta t & 1 \\end{bmatrix} \\le 1.\n",
    "\\end{align}\n",
    "Hence,\n",
    "\\begin{align}\n",
    "\\frac{g}{l}\\Delta t^2 \\le 0\n",
    "\\end{align}\n",
    "which canno be satisfied.\n",
    "The forward Euler method is therefore again unconditional unstable."
   ]
  },
  {
   "cell_type": "markdown",
   "id": "13",
   "metadata": {},
   "source": [
    "### Stability Regions for RK2 and RK4 Methods\n",
    "\n",
    "Beyond the Forward Euler method, higher-order explicit Runge-Kutta (RK) methods like RK2 and RK4 offer improved accuracy while maintaining conditional stability.\n",
    "However, their stability regions differ from that of the Forward Euler method, allowing for larger regions of stability in the complex plane.\n",
    "Understanding these stability regions is essential for selecting appropriate numerical methods based on the problem's characteristics.\n",
    "\n",
    "* RK2 Stability Function:\n",
    "  For the classical RK2 method (Heun’s method), the stability function is given by:\n",
    "  \\begin{align}\n",
    "  R_{\\text{RK2}}(z) = 1 + z + \\frac{1}{2} z^2\n",
    "  \\end{align}\n",
    "\n",
    "* RK4 Stability Function:\n",
    "  For the classical RK4 method, the stability function is more complex:\n",
    "  \\begin{align}\n",
    "  R_{\\text{RK4}}(z) = 1 + z + \\frac{1}{2} z^2 + \\frac{1}{6} z^3 + \\frac{1}{24} z^4\n",
    "  \\end{align}\n",
    "\n",
    "These stability functions indicate how each method propagates errors over time steps, affecting the overall stability of the numerical solution."
   ]
  },
  {
   "cell_type": "code",
   "execution_count": null,
   "id": "14",
   "metadata": {},
   "outputs": [],
   "source": [
    "def R_RK2(z):\n",
    "    \"\"\"Stability function for RK2\"\"\"\n",
    "    return 1 + z + 0.5 * z**2\n",
    "\n",
    "def R_RK4(z):\n",
    "    \"\"\"Stability function for RK4 (classical Runge-Kutta)\"\"\"\n",
    "    return 1\n",
    "    + z + 0.5 * z**2 + (1/6) * z**3 + (1/24) * z**4\n",
    "\n",
    "# Compute |R(z)| for each method\n",
    "abs_R_RK2 = np.abs(R_RK2(Z))\n",
    "abs_R_RK4 = np.abs(R_RK4(Z))"
   ]
  },
  {
   "cell_type": "code",
   "execution_count": null,
   "id": "15",
   "metadata": {},
   "outputs": [],
   "source": [
    "# Define a list of methods and their corresponding data\n",
    "methods = {\n",
    "    'Forward Euler':   abs_R_fE,\n",
    "    'RK2 ':            abs_R_RK2,\n",
    "    'RK4 (Classical)': abs_R_RK4,\n",
    "}\n",
    "\n",
    "# Plot stability regions for each method\n",
    "colors = ['red', 'green', 'blue']\n",
    "for idx, (title, abs_R) in enumerate(methods.items()):\n",
    "    # Contour where |R(z)| = 1\n",
    "    plt.contour(Re, Im, abs_R, levels=[1], colors=colors[idx], linewidths=2, linestyles='-')\n",
    "    # Fill the stability region\n",
    "    plt.contourf(Re, Im, abs_R, levels=[0, 1], colors=[colors[idx]], alpha=0.1)\n",
    "\n",
    "plt.title('Stability Regions for Forward Euler, RK2, and RK4 Methods')\n",
    "plt.xlabel(r'Re($\\lambda \\Delta t$)')\n",
    "plt.ylabel(r'Im($\\lambda \\Delta t$)')\n",
    "plt.gca().set_aspect('equal')\n",
    "\n",
    "# Adding legend manually\n",
    "patches = []\n",
    "for idx, title in enumerate(methods.keys()):\n",
    "    patches.append(mpatches.Patch(color=colors[idx], label=title))\n",
    "plt.legend(handles=patches)"
   ]
  },
  {
   "cell_type": "markdown",
   "id": "16",
   "metadata": {},
   "source": [
    "The above plot suggests:\n",
    "* RK2 (Green):\n",
    "  * Stability Region: Larger than Forward Euler but still bounded.\n",
    "  * Extended Stability: Allows for slightly larger time steps while maintaining stability.\n",
    "* RK4 (Classical) (Blue):\n",
    "  * Stability Region: Even larger than RK2, encompassing a more extensive area in the complex plane.\n",
    "  * Greater Stability: Facilitates larger time steps compared to Forward Euler and RK2."
   ]
  },
  {
   "cell_type": "markdown",
   "id": "17",
   "metadata": {},
   "source": [
    "Some key observations include:\n",
    "* Order vs. Stability: Higher-order methods like RK2 and RK4 generally have larger stability regions compared to lower-order methods like Forward Euler.\n",
    "  This allows them to take larger time steps while maintaining stability.\n",
    "* Still Conditionally Stable: Despite their larger stability regions, RK2 and RK4 are still conditionally stable.\n",
    "  They are not A-stable, meaning they cannot remain stable for all values of  $\\lambda \\Delta t$ in the left half of the complex plane."
   ]
  },
  {
   "cell_type": "markdown",
   "id": "18",
   "metadata": {},
   "source": [
    "In terms of trade-offs:\n",
    "* Forward Euler: Simple and easy to implement but has a very limited stability region.\n",
    "* RK2 and RK4: More complex and computationally intensive due to additional stages but offer better stability and accuracy."
   ]
  },
  {
   "cell_type": "markdown",
   "id": "19",
   "metadata": {},
   "source": [
    "In this section, we extended our analysis of stability regions to include higher-order explicit Runge-Kutta methods: RK2 and RK4 (classical Runge-Kutta).\n",
    "Both methods exhibit larger stability regions compared to the Forward Euler method, allowing for greater flexibility in choosing time steps while maintaining stability.\n",
    "However, they remain conditionally stable, meaning their stability depends on the specific characteristics of the ODE being solved and the chosen time step.\n",
    "\n",
    "Understanding the stability regions of these methods is essential for selecting the appropriate numerical integrator based on the problem's nature.\n",
    "While RK2 and RK4 offer improved stability and accuracy, they still require careful consideration of the time step to ensure that the numerical solution remains stable and accurate."
   ]
  },
  {
   "cell_type": "markdown",
   "id": "20",
   "metadata": {},
   "source": [
    "### Implicit Methods\n",
    "\n",
    "In the realm of numerical ODE solvers, methods are broadly classified into explicit and implicit integrators based on how they compute the next state of the system.\n",
    "\n",
    "Explicit Methods:\n",
    "* Definition: Compute the state of the system at the next time step solely based on information from the current and previous steps.\n",
    "* Example: Forward Euler Method.\n",
    "* Advantages:\n",
    "  * Simplicity and ease of implementation.\n",
    "  * Computational efficiency for non-stiff problems.\n",
    "* Disadvantages:\n",
    "  * Limited stability regions, making them unsuitable for stiff ODEs without very small time steps.\n",
    "  * Potential for instability and error amplification in certain scenarios.\n",
    "\n",
    "Implicit Methods:\n",
    "* Definition: Compute the state of the system at the next time step based on both current and future information, often requiring the solution of equations that involve the unknown future state.\n",
    "* Example: Backward Euler Method.\n",
    "* Advantages:\n",
    "  * Larger stability regions, making them suitable for stiff ODEs.\n",
    "  * Enhanced stability allows for larger time steps without sacrificing solution quality.\n",
    "* Disadvantages:\n",
    "  * Increased computational complexity due to the need to solve nonlinear equations at each step.\n",
    "  * More involved implementation, especially for complex or high-dimensional systems."
   ]
  },
  {
   "cell_type": "markdown",
   "id": "21",
   "metadata": {},
   "source": [
    "The main reasons to use implicit methods include:\n",
    "* Stiff ODEs: Systems with rapidly decaying components alongside slower dynamics.\n",
    "  Explicit methods require prohibitively small time steps for stability, whereas implicit methods can handle larger steps efficiently.\n",
    "* Enhanced Stability: Implicit methods can remain stable for a broader range of problems and time steps, making them indispensable for certain applications in physics, engineering, and other fields.\n",
    "\n",
    "Understanding the distinction between implicit and explicit methods is fundamental for selecting the appropriate numerical integrator based on the characteristics of the ODE being solved."
   ]
  },
  {
   "cell_type": "markdown",
   "id": "22",
   "metadata": {},
   "source": [
    "### Backward Euler Method\n",
    "\n",
    "The Backward Euler method is one of the simplest implicit methods.\n",
    "It offers enhanced stability properties compared to its explicit counterpart, making it suitable for stiff ODEs.\n",
    "\n",
    "Given an ODE:\n",
    "\\begin{align}\n",
    "\\frac{dx}{dt} = f(x, t), \\quad x(t_0) = x_0\n",
    "\\end{align}\n",
    "The Backward Euler update formula is derived by evaluating the derivative at the next time step $t_{n+1} = t_n + \\Delta t$:\n",
    "\\begin{align}\n",
    "x_{n+1} = x_n + \\Delta t \\cdot f(x_{n+1}, t_{n+1})\n",
    "\\end{align}\n",
    "Unlike explicit methods, $x_{n+1}$ appears on both sides of the equation, necessitating the solution of this equation at each time step."
   ]
  },
  {
   "cell_type": "markdown",
   "id": "23",
   "metadata": {},
   "source": [
    "### Stability Analysis\n",
    "\n",
    "Using the linear test equation $\\frac{dx}{dt} = \\lambda x$, where $\\lambda \\in \\mathbb{C}$, the Backward Euler update becomes:\n",
    "\\begin{align}\n",
    "x_{n+1} = x_n + \\Delta t \\cdot \\lambda x_{n+1}\n",
    "\\end{align}\n",
    "Solving for $x_{n+1}$:\n",
    "\\begin{align}\n",
    "x_{n+1} = \\frac{x_n}{1 - \\lambda \\Delta t}\n",
    "\\end{align}\n",
    "The amplification factor $R(z)$ is therefore:\n",
    "\\begin{align}\n",
    "R(z) = \\frac{1}{1 - z} \\quad \\text{where} \\quad z = \\lambda \\Delta t\n",
    "\\end{align}\n",
    "\n",
    "The stability condition requires:\n",
    "\\begin{align}\n",
    "|R(z)| = \\left| \\frac{1}{1 - z} \\right| \\leq 1\n",
    "\\end{align}\n",
    "For the method to be stable, the above condition must hold.\n",
    "Analyzing this:\n",
    "* A-Stability: A numerical method is A-stable if it is stable for all $\\lambda \\Delta t$ with $\\text{Re}(\\lambda) \\leq 0$.\n",
    "  The Backward Euler method satisfies this condition, making it A-stable.\n",
    "* Implications for Stiff ODEs: The A-stability of the Backward Euler method allows it to handle stiff ODEs effectively, enabling larger time steps without sacrificing stability."
   ]
  },
  {
   "cell_type": "code",
   "execution_count": null,
   "id": "24",
   "metadata": {},
   "outputs": [],
   "source": [
    "def R_bE(z):\n",
    "    \"\"\"Stability function for backward Euler\"\"\"\n",
    "    return 1 / (1 - z)\n",
    "\n",
    "# Compute |R(z)| for each method\n",
    "abs_R_bE = np.abs(R_bE(Z))"
   ]
  },
  {
   "cell_type": "code",
   "execution_count": null,
   "id": "25",
   "metadata": {},
   "outputs": [],
   "source": [
    "# Define a list of methods and their corresponding data\n",
    "methods = {\n",
    "    'Forward Euler':   abs_R_fE,\n",
    "    'Backward Euler':  abs_R_bE,\n",
    "    'RK2':             abs_R_RK2,\n",
    "    'RK4 (Classical)': abs_R_RK4,\n",
    "}\n",
    "\n",
    "# Plot stability regions for each method\n",
    "colors = ['red', 'yellow', 'green', 'blue']\n",
    "for idx, (title, abs_R) in enumerate(methods.items()):\n",
    "    # Contour where |R(z)| = 1\n",
    "    plt.contour(Re, Im, abs_R, levels=[1], colors=colors[idx], linewidths=2, linestyles='-')\n",
    "    # Fill the stability region\n",
    "    plt.contourf(Re, Im, abs_R, levels=[0, 1], colors=[colors[idx]], alpha=0.1)\n",
    "\n",
    "plt.title('Stability Regions for Forward Euler, RK2, and RK4 Methods')\n",
    "plt.xlabel(r'Re($\\lambda \\Delta t$)')\n",
    "plt.ylabel(r'Im($\\lambda \\Delta t$)')\n",
    "plt.gca().set_aspect('equal')\n",
    "\n",
    "# Adding legend manually\n",
    "patches = []\n",
    "for idx, title in enumerate(methods.keys()):\n",
    "    patches.append(mpatches.Patch(color=colors[idx], label=title))\n",
    "plt.legend(handles=patches)"
   ]
  },
  {
   "cell_type": "markdown",
   "id": "26",
   "metadata": {},
   "source": [
    "Implementing the Backward Euler method involves solving the implicit equation at each time step.\n",
    "The approach varies depending on whether the ODE is linear or nonlinear.\n",
    "\n",
    "* Linear ODEs: If $f(x, t)$ is linear in $x$, the implicit equation can often be solved directly without iterative methods.\n",
    "  For example, for $dx/dt = \\lambda x$:\n",
    "  \\begin{align}\n",
    "  x_{n+1} = (1 - \\lambda \\Delta t)^{-1} x_n.\n",
    "  \\end{align}\n",
    "  Using matrix inverse, the above formulation even works for system of linear ODEs.\n",
    "\n",
    "* Nonlinear ODEs: If $f(x, t)$ is nonlinear, solving for $x_{n+1}$ typically requires iterative methods such as the [Newton-Raphson method](opt.md).\n",
    "  Python's fsolve from the scipy.optimize library can be used for this purpose."
   ]
  },
  {
   "cell_type": "markdown",
   "id": "27",
   "metadata": {},
   "source": [
    "## Stiff ODEs\n",
    "\n",
    "Let's implement the Backward Euler method for a simple linear ODE and compare it with the Forward Euler method.\n",
    "\n",
    "Consider the ODE:\n",
    "\\begin{align}\n",
    "\\frac{dx}{dt} = -1000x + 3000 - 2000e^{-t}, \\quad x(0) = 0\n",
    "\\end{align}\n",
    "The exact solution is:\n",
    "\\begin{align}\n",
    "x(t) = 3 - 0.998 e^{-1000t} - 2.002 e^{-t}\n",
    "\\end{align}\n",
    "This ODE is stiff because it contains terms with vastly different decay rates ($e^{-1000t}$ vs. $e^{-t}$)."
   ]
  },
  {
   "cell_type": "code",
   "execution_count": null,
   "id": "28",
   "metadata": {},
   "outputs": [],
   "source": [
    "# Define the stiff ODE\n",
    "def stiff_ode(x, t):\n",
    "    return -1000 * x + 3000 - 2000 * np.exp(-t)"
   ]
  },
  {
   "cell_type": "code",
   "execution_count": null,
   "id": "29",
   "metadata": {},
   "outputs": [],
   "source": [
    "# Define the exact solution for comparison\n",
    "def exact_solution(t):\n",
    "    return 3 - 0.998 * np.exp(-1000 * t) - 2.002 * np.exp(-t)"
   ]
  },
  {
   "cell_type": "code",
   "execution_count": null,
   "id": "30",
   "metadata": {},
   "outputs": [],
   "source": [
    "# Forward Euler Method (for comparison)\n",
    "def forward_euler(f, x0, t0, tf, dt):\n",
    "    T = np.arange(t0, tf + dt, dt)\n",
    "    X = [x0]\n",
    "\n",
    "    for i in range(1, len(T)):\n",
    "        t = T[i-1]\n",
    "        x = X[i-1] + dt * f(X[i-1], t)\n",
    "        X.append(x)\n",
    "\n",
    "    return T, X"
   ]
  },
  {
   "cell_type": "code",
   "execution_count": null,
   "id": "31",
   "metadata": {},
   "outputs": [],
   "source": [
    "from scipy.optimize import fsolve\n",
    "\n",
    "# Backward Euler Method\n",
    "def backward_euler(f, x0, t0, tf, dt):\n",
    "    T = np.arange(t0, tf + dt, dt)\n",
    "    X = [x0]\n",
    "\n",
    "    for i in range(1, len(T)):\n",
    "        t = T[i]\n",
    "\n",
    "        # Define the implicit equation: x_next = x_current + dt * f(x_next, t_next)\n",
    "        func = lambda x: x - X[i-1] - dt * f(x, t)\n",
    "        # Initial guess: Forward Euler estimate\n",
    "        x0 = X[i-1] + dt * f(X[i-1], t)\n",
    "        # Solve for x_next using Newton-Raphson (fsolve)\n",
    "        x  = fsolve(func, x0)[0]\n",
    "        \n",
    "        X.append(x)\n",
    "\n",
    "    return T, X"
   ]
  },
  {
   "cell_type": "code",
   "execution_count": null,
   "id": "32",
   "metadata": {},
   "outputs": [],
   "source": [
    "# Parameters\n",
    "x0 = 0\n",
    "t0 = 0\n",
    "tf = 0.01 # Short time to observe stiffness effects\n",
    "dt = 0.002\n",
    "\n",
    "# Solve using Forward Euler\n",
    "T_fE, X_fE = forward_euler(stiff_ode, x0, t0, tf, dt)\n",
    "\n",
    "# Solve using Backward Euler\n",
    "T_bE, X_bE = backward_euler(stiff_ode, x0, t0, tf, dt)\n",
    "\n",
    "# Exact solution\n",
    "T = np.linspace(t0, tf, 1000)\n",
    "X = exact_solution(T)"
   ]
  },
  {
   "cell_type": "code",
   "execution_count": null,
   "id": "33",
   "metadata": {},
   "outputs": [],
   "source": [
    "# Plotting\n",
    "plt.plot(T,    X,    'k-',  label='Exact Solution')\n",
    "plt.plot(T_fE, X_fE, 'r-o', label='Forward Euler')\n",
    "plt.plot(T_bE, X_bE, 'b-o', label='Backward Euler')\n",
    "plt.xlabel('Time t')\n",
    "plt.ylabel('x(t)')\n",
    "plt.legend()\n",
    "plt.grid(True)"
   ]
  },
  {
   "cell_type": "markdown",
   "id": "34",
   "metadata": {},
   "source": [
    "From the plot, we observe:\n",
    "* Forward Euler Method:\n",
    "  * Behavior: Exhibits rapid oscillations and diverges from the exact solution, highlighting instability.\n",
    "  * Reason: The Forward Euler method is unstable for stiff ODEs, as the required stability condition imposes prohibitively small time steps.\n",
    "* Backward Euler Method:\n",
    "  * Behavior: Accurately follows the exact solution without oscillations, demonstrating stability even with relatively larger time steps.\n",
    "  * Reason: The implicit formulation dampens the effects of stiff terms, maintaining stability."
   ]
  },
  {
   "cell_type": "markdown",
   "id": "35",
   "metadata": {},
   "source": [
    "### Implicit Midpoint Method\n",
    "\n",
    "The Implicit Midpoint Method is another implicit integrator that offers second-order accuracy and possesses symplectic properties, making it suitable for certain classes of ODEs, particularly those arising from Hamiltonian systems.\n",
    "\n",
    "Given an ODE:\n",
    "\\begin{align}\n",
    "\\frac{dx}{dt} = f(x, t), \\quad x(t_0) = x_0\n",
    "\\end{align}\n",
    "The Implicit Midpoint Method updates the solution as follows:\n",
    "\\begin{align}\n",
    "x_{n+1} = x_n + \\Delta t \\cdot f\\left( \\frac{x_n + x_{n+1}}{2}, t_n + \\frac{\\Delta t}{2} \\right)\n",
    "\\end{align}\n",
    "\n",
    "This method evaluates the derivative at the midpoint between the current and next states, enhancing its accuracy compared to the Backward Euler method."
   ]
  },
  {
   "cell_type": "markdown",
   "id": "36",
   "metadata": {},
   "source": [
    "### Stability Properties\n",
    "\n",
    "Similar to the Backward Euler method, the Implicit Midpoint Method is A-stable, meaning it remains stable for all $\\lambda \\Delta t$ with $\\text{Re}(\\lambda) \\leq 0$.\n",
    "Additionally, the Implicit Midpoint Method is symplectic, making it particularly valuable for preserving the geometric properties of Hamiltonian systems over long simulations.\n",
    "\n",
    "To obtain the stability region, we use the test problem:\n",
    "\\begin{align}\n",
    "x_{n+1} &= x_n + \\Delta t\\cdot\\lambda \\left(\\frac{x_{n+1} + x_n}{2}\\right) \\\\\n",
    "\\left(1 - \\frac{\\Delta t\\cdot\\lambda}{2}\\right) x_{n+1} &=\n",
    "\\left(1 + \\frac{\\Delta t\\cdot\\lambda}{2}\\right) x_n \\\\\n",
    "x_{n+1} &= \\frac{1 + \\Delta t\\cdot\\lambda/2}{1 + \\Delta t\\cdot\\lambda/2} x_n\n",
    "\\end{align}\n",
    "Therefore, the amplification factor is\n",
    "\\begin{align}\n",
    "R(z) = \\left|\\frac{2 + z}{2 - z}\\right|\n",
    "\\end{align}"
   ]
  },
  {
   "cell_type": "code",
   "execution_count": null,
   "id": "37",
   "metadata": {},
   "outputs": [],
   "source": [
    "def R_im(z):\n",
    "    \"\"\"Stability function for implicit mid-point\"\"\"\n",
    "    return (2 + z) / (2 - z)\n",
    "\n",
    "# Compute |R(z)| for each method\n",
    "abs_R_im = np.abs(R_im(Z))"
   ]
  },
  {
   "cell_type": "code",
   "execution_count": null,
   "id": "38",
   "metadata": {},
   "outputs": [],
   "source": [
    "# Define a list of methods and their corresponding data\n",
    "methods = {\n",
    "    'Forward Euler':      abs_R_fE,\n",
    "    'Backward Euler':     abs_R_bE,\n",
    "    'RK2':                abs_R_RK2,\n",
    "    'implicit mid-point': abs_R_im,\n",
    "    'RK4 (Classical)':    abs_R_RK4,\n",
    "}\n",
    "\n",
    "plt.figure(figsize=(10, 8))\n",
    "\n",
    "# Plot stability regions for each method\n",
    "colors = ['red', 'yellow', 'green', 'cyan', 'blue']\n",
    "for idx, (title, abs_R) in enumerate(methods.items()):\n",
    "    # Contour where |R(z)| = 1\n",
    "    plt.contour(Re, Im, abs_R, levels=[1], colors=colors[idx], linewidths=2, linestyles='-')\n",
    "    # Fill the stability region\n",
    "    plt.contourf(Re, Im, abs_R, levels=[0, 1], colors=[colors[idx]], alpha=0.1)\n",
    "\n",
    "plt.title('Stability Regions for Forward Euler, RK2, and RK4 Methods')\n",
    "plt.xlabel(r'Re($\\lambda \\Delta t$)')\n",
    "plt.ylabel(r'Im($\\lambda \\Delta t$)')\n",
    "plt.gca().set_aspect('equal')\n",
    "\n",
    "# Adding legend manually\n",
    "patches = []\n",
    "for idx, title in enumerate(methods.keys()):\n",
    "    patches.append(mpatches.Patch(color=colors[idx], label=title))\n",
    "plt.legend(handles=patches)"
   ]
  },
  {
   "cell_type": "markdown",
   "id": "39",
   "metadata": {},
   "source": [
    "Both the Backward Euler Method and the Implicit Midpoint Method are A-stable, meaning they are stable for all $\\lambda \\Delta t$ with $\\text{Re}(\\lambda) \\leq 0$.\n",
    "This property makes them highly suitable for solving stiff ODEs, where explicit methods like Forward Euler fail to maintain stability without extremely small time steps.\n",
    "\n",
    "Comparison with Explicit Methods:\n",
    "* Forward Euler:\n",
    "  * Stability Region: Limited to a circle centered at (-1, 0) with radius 1.\n",
    "  * Conditionally Stable: Only stable within this specific region.\n",
    "* RK2 and RK4:\n",
    "  * Stability Regions: Larger than Forward Euler but still bounded.\n",
    "  * Conditionally Stable: Not A-stable, limiting their applicability to certain types of ODEs.\n",
    "* Backward Euler and Implicit Midpoint:\n",
    "  * Stability Regions: Cover the entire left half of the complex plane.\n",
    "  * A-Stable: Remain stable for all $\\lambda \\Delta t$ with $\\text{Re}(\\lambda) \\leq 0$.\n",
    "\n",
    "Implications:\n",
    "* Implicit methods like Backward Euler and Implicit Midpoint are indispensable for solving stiff ODEs, where explicit methods would require impractically small time steps to maintain stability.\n",
    "* The trade-off is computational complexity, as implicit methods require solving nonlinear equations at each time step, which can be computationally intensive for large or complex systems."
   ]
  },
  {
   "cell_type": "markdown",
   "id": "40",
   "metadata": {},
   "source": [
    "With these advantages, let's implement the Implicit Midpoint Method for the same stiff ODE and compare it with the Backward Euler method."
   ]
  },
  {
   "cell_type": "code",
   "execution_count": null,
   "id": "41",
   "metadata": {},
   "outputs": [],
   "source": [
    "# Implicit Midpoint Method\n",
    "def implicit_midpoint(f, x0, t0, tf, dt):\n",
    "    T = np.arange(t0, tf + dt, dt)\n",
    "    X = [x0]\n",
    "\n",
    "    for i in range(1, len(T)):\n",
    "        t_mid = T[i-1] + dt / 2\n",
    "\n",
    "        # Define the implicit equation: x_next = x_current + dt * f((x_current + x_next)/2, t_mid)\n",
    "        func = lambda x: x - X[i-1] - dt * f((X[i-1] + x)/2, t_mid)\n",
    "        # Initial guess: forward Euler estimate\n",
    "        x0 = X[i-1] + dt * f(X[i-1], T[i-1])\n",
    "        # Solve for x_next using Newton-Raphson (fsolve)\n",
    "        x = fsolve(func, x0)[0]\n",
    "        \n",
    "        X.append(x)\n",
    "\n",
    "    return T, X"
   ]
  },
  {
   "cell_type": "code",
   "execution_count": null,
   "id": "42",
   "metadata": {},
   "outputs": [],
   "source": [
    "# Parameters\n",
    "x0 = 0\n",
    "t0 = 0\n",
    "tf = 0.01 # Short time to observe stiffness effects\n",
    "dt = 0.002\n",
    "\n",
    "# Solve using Forward Euler\n",
    "T_fE, X_fE = forward_euler(stiff_ode, x0, t0, tf, dt)\n",
    "\n",
    "# Solve using Backward Euler\n",
    "T_bE, X_bE = backward_euler(stiff_ode, x0, t0, tf, dt)\n",
    "\n",
    "# Solve using Implicit Midpoint Method\n",
    "T_im, X_im = implicit_midpoint(stiff_ode, x0, t0, tf, dt)\n",
    "\n",
    "# Exact solution\n",
    "T = np.linspace(t0, tf, 1000)\n",
    "X = exact_solution(T)"
   ]
  },
  {
   "cell_type": "code",
   "execution_count": null,
   "id": "43",
   "metadata": {},
   "outputs": [],
   "source": [
    "# Plotting\n",
    "plt.plot(T,    X,    'k-',  label='Exact Solution')\n",
    "plt.plot(T_fE, X_fE, 'r-o', label='Forward Euler')\n",
    "plt.plot(T_bE, X_bE, 'b-o', label='Backward Euler')\n",
    "plt.plot(T_im, X_im, 'g-o', label='Implicit Midpoint')\n",
    "plt.xlabel('Time t')\n",
    "plt.ylabel('x(t)')\n",
    "plt.legend()\n",
    "plt.grid(True)"
   ]
  },
  {
   "cell_type": "markdown",
   "id": "44",
   "metadata": {},
   "source": [
    "## Symplectic Algorithms\n",
    "\n",
    "In the study of Ordinary Differential Equations (ODEs), particularly those arising from physical systems, preserving the inherent geometric and physical properties of the system during numerical integration is important.\n",
    "Symplectic algorithms are a class of numerical integrators specifically designed to preserve the symplectic structure of Hamiltonian systems, ensuring the conservation of key invariants and enhancing the long-term stability of simulations."
   ]
  },
  {
   "cell_type": "markdown",
   "id": "45",
   "metadata": {},
   "source": [
    "### Introduction to Hamiltonian Systems\n",
    "\n",
    "A Hamiltonian system is a type of dynamical system governed by Hamilton's equations, which describe the evolution of a system in terms of its coordinates and conjugate momenta.\n",
    "Formally, for a system with generalized coordinates $q$ and conjugate momenta $p$, the Hamiltonian\n",
    "\\begin{align}\n",
    "H(q, p, t) = T(p) + V(q, t)\n",
    "\\end{align}\n",
    "represents the total energy of the system (kinetic $T$ plus potential energy $V$).\n",
    "\n",
    "Hamilton's equations are given by:\n",
    "\\begin{align}\n",
    "\\frac{dq_i}{dt} = \\frac{\\partial H}{\\partial p_i}, \\quad \\frac{dp_i}{dt} = -\\frac{\\partial H}{\\partial q_i}, \\quad \\text{for } i = 1, 2, \\ldots, n\n",
    "\\end{align}\n",
    "where $n$ is the number of degrees of freedom in the system."
   ]
  },
  {
   "cell_type": "markdown",
   "id": "46",
   "metadata": {},
   "source": [
    "Examples of Hamiltonian system include:\n",
    "* Simple Harmonic Oscillator:\n",
    "  A mass-spring system without damping is a quintessential Hamiltonian system. Its Hamiltonian is:\n",
    "  \\begin{align}\n",
    "  H(q, p) = \\frac{p^2}{2m} + \\frac{1}{2} k q^2\n",
    "  \\end{align}\n",
    "  where $m$ is the mass, $k$ is the spring constant, $q$ is the displacement, and $p = m \\dot{q}$ is the momentum.\n",
    "* Kepler Problem:\n",
    "  Describing the motion of a planet around the sun, the Kepler problem is governed by the gravitational potential:\n",
    "  \\begin{align}\n",
    "  H(q, p) = \\frac{p^2}{2m} - \\frac{G M m}{|q|}\n",
    "  \\end{align}\n",
    "  where $G$ is the gravitational constant, $M$ is the mass of the sun, and $|q|$ is the distance between the planet and the sun.\n",
    "* Double Pendulum:\n",
    "  As we solved [last time](ode2.md), it is a system with two pendulums attached end-to-end exhibits rich dynamical behavior and is described by a Hamiltonian that accounts for both kinetic and potential energies of the masses."
   ]
  },
  {
   "cell_type": "markdown",
   "id": "47",
   "metadata": {},
   "source": [
    "### Conservation Laws in Hamiltonian Mechanics\n",
    "\n",
    "Hamiltonian systems are characterized by several fundamental conservation laws, which are crucial for understanding the long-term behavior of the system.\n",
    "\n",
    "* Energy Conservation: For autonomous Hamiltonian systems (where $H$ does not explicitly depend on time), the Hamiltonian $H(q, p)$ itself is conserved over time:\n",
    "  \\begin{align}\n",
    "  \\frac{dH}{dt} = 0\n",
    "  \\end{align}\n",
    "  This reflects the conservation of total energy in the system.\n",
    "\n",
    "* Momentum Conservation:\n",
    "  If the Hamiltonian does not depend on a particular coordinate $q_i$, the corresponding momentum $p_i$ is conserved:\n",
    "  \\begin{align}\n",
    "  \\frac{dp_i}{dt} = -\\frac{\\partial H}{\\partial q_i} = 0 \\quad \\Rightarrow \\quad p_i = \\text{constant}\n",
    "  \\end{align}\n",
    "  This is a manifestation of Noether's theorem, linking symmetries in the Hamiltonian to conserved quantities.\n",
    "\n",
    "* Phase-Space Volume Preservation:\n",
    "  Hamiltonian flows preserve the volume in phase space, a property known as Liouville's theorem.\n",
    "  Mathematically, the divergence of the Hamiltonian vector field is zero:\n",
    "  \\begin{align}\n",
    "  \\nabla \\cdot \\left( \\frac{\\partial H}{\\partial p}, -\\frac{\\partial H}{\\partial q} \\right) = 0\n",
    "  \\end{align}\n",
    "  This preservation is fundamental for the statistical interpretation of thermodynamic systems."
   ]
  },
  {
   "cell_type": "markdown",
   "id": "48",
   "metadata": {},
   "source": [
    "### Importance of Symplectic Integrators in Preserving Invariants\n",
    "\n",
    "Traditional numerical integrators, such as the Forward Euler or Runge-Kutta methods, may not preserve the geometric properties of Hamiltonian systems, leading to the gradual drift of conserved quantities like energy.\n",
    "Symplectic integrators are designed to preserve the symplectic structure of Hamiltonian flows, ensuring that key invariants remain conserved over long-term simulations.\n",
    "\n",
    "* Energy Conservation:\n",
    "  While symplectic integrators do not exactly conserve energy, they exhibit a bounded energy error that oscillates around the true energy value without systematic drift.\n",
    "  This contrasts with non-symplectic methods, where energy errors can accumulate, leading to unrealistic solutions over time.\n",
    "\n",
    "* Long-Term Stability in Simulations:\n",
    "  By preserving the symplectic structure, these integrators maintain the qualitative behavior of the system, such as bounded orbits in celestial mechanics or stable oscillations in mechanical systems.\n",
    "  This stability is crucial for simulations that span extended periods, where non-symplectic methods would fail to provide reliable results."
   ]
  },
  {
   "cell_type": "markdown",
   "id": "49",
   "metadata": {},
   "source": [
    "### Properties of Symplectic Methods\n",
    "\n",
    "Symplectic integrators possess several properties that make them particularly suitable for Hamiltonian systems.\n",
    "* Time-Reversibility:\n",
    "  Many symplectic methods are time-reversible, meaning that reversing the direction of time in the numerical integration process returns the system to its original state.\n",
    "  This property enhances the stability and accuracy of the integrator, especially in systems where time-reversal symmetry is inherent.\n",
    "* Phase-Space Volume Preservation:\n",
    "  Symplectic integrators inherently preserve the phase-space volume, aligning with Liouville's theorem.\n",
    "  This preservation ensures that the statistical properties of the system remain intact throughout the simulation.\n",
    "* Implicit vs. Explicit Symplectic Methods\n",
    "  * Symplectic Euler (Implicit and Explicit Variants): The Symplectic Euler method comes in both implicit and explicit forms.\n",
    "    The implicit variant offers better stability properties but requires solving equations at each step, while the explicit variant is simpler but less stable.\n",
    "  * Leapfrog/Verlet Integration: A widely used symplectic integrator in molecular dynamics and celestial simulations, known for its simplicity, second-order accuracy, and excellent energy conservation properties."
   ]
  },
  {
   "cell_type": "markdown",
   "id": "50",
   "metadata": {},
   "source": [
    "### Symplectic Euler Method\n",
    "\n",
    "The Symplectic Euler method updates the coordinates and momenta in a staggered fashion, ensuring the preservation of the symplectic structure.\n",
    "\n",
    "There are two variants of the Symplectic Euler method:\n",
    "\n",
    "1. Implicit Symplectic Euler:\n",
    "   \\begin{align}\n",
    "   p_{n+1} &= p_n - \\Delta t \\cdot \\frac{\\partial V}{\\partial q}(q_{n+1}) \\\\\n",
    "   q_{n+1} &= q_n + \\Delta t \\cdot \\frac{p_{n+1}}{m}\n",
    "   \\end{align}\n",
    "\n",
    "2. Explicit Symplectic Euler:\n",
    "   \\begin{align}\n",
    "   q_{n+1} &= q_n + \\Delta t \\cdot \\frac{p_n}{m} \\\\\n",
    "   p_{n+1} &= p_n - \\Delta t \\cdot \\frac{\\partial V}{\\partial q}(q_n)\n",
    "   \\end{align}\n",
    "\n",
    "As the formulation suggests, they are both first-order accurate in time.\n",
    "Nevertheless, compared to forward or even backward Euler methods, they preserve the symplectic structure, ensuring bounded energy errors.\n",
    "They also offers better stability compared to non-symplectic explicit methods."
   ]
  },
  {
   "cell_type": "markdown",
   "id": "51",
   "metadata": {},
   "source": [
    "Consider the simple harmonic oscillator:\n",
    "\\begin{align}\n",
    "\\frac{dq}{dt} = \\frac{p}{m}, \\quad \\frac{dp}{dt} = -k q\n",
    "\\end{align}\n",
    "where $q$ is the position, $p$ is the momentum, $m$ is the mass, and $k$ is the spring constant."
   ]
  },
  {
   "cell_type": "code",
   "execution_count": null,
   "id": "52",
   "metadata": {},
   "outputs": [],
   "source": [
    "# Define the exact solution for comparison\n",
    "def exact_solution(q0, p0, t0, tf, dt, m=1, k=1):\n",
    "    omega = np.sqrt(k / m)\n",
    "\n",
    "    T = np.arange(t0, tf + dt, dt)\n",
    "    Q = q0 * np.cos(omega * T) + (p0 / (m * omega)) * np.sin(omega * T)\n",
    "    P = -m * omega * q0 * np.sin(omega * T) + p0 * np.cos(omega * T)\n",
    "\n",
    "    return T, Q, P"
   ]
  },
  {
   "cell_type": "code",
   "execution_count": null,
   "id": "53",
   "metadata": {},
   "outputs": [],
   "source": [
    "# Forward Euler Method (for comparison)\n",
    "def forward_euler(q0, p0, t0, tf, dt, m=1, k=1):\n",
    "    T = np.arange(t0, tf + dt, dt)\n",
    "    Q = np.zeros(len(T))\n",
    "    P = np.zeros(len(T))\n",
    "\n",
    "    Q[0] = q0\n",
    "    P[0] = p0\n",
    "    for i in range(1, len(T)):\n",
    "        Q[i] = Q[i-1] + dt * (P[i-1] / m)\n",
    "        P[i] = P[i-1] - dt * (k * Q[i-1])\n",
    "\n",
    "    return T, Q, P"
   ]
  },
  {
   "cell_type": "code",
   "execution_count": null,
   "id": "54",
   "metadata": {},
   "outputs": [],
   "source": [
    "# Symplectic Euler Method (Explicit Variant)\n",
    "def symplectic_euler(q0, p0, t0, tf, dt, m=1, k=1):\n",
    "    T = np.arange(t0, tf + dt, dt)\n",
    "    Q = np.zeros(len(T)) # allows indicing according to the equations\n",
    "    P = np.zeros(len(T)) # allows indicing according to the equations\n",
    "\n",
    "    Q[0] = q0\n",
    "    P[0] = p0\n",
    "    for i in range(1, len(T)):\n",
    "        Q[i] = Q[i-1] + dt * (P[i-1] / m)\n",
    "        P[i] = P[i-1] - dt * (k * Q[i])\n",
    "\n",
    "    return T, Q, P"
   ]
  },
  {
   "cell_type": "code",
   "execution_count": null,
   "id": "55",
   "metadata": {},
   "outputs": [],
   "source": [
    "# Parameters\n",
    "m  =  1.0 # mass\n",
    "k  =  1.0 # spring constant\n",
    "q0 =  1.0 # initial position\n",
    "p0 =  0.0 # initial momentum\n",
    "t0 =  0.0\n",
    "tf = 10.0\n",
    "dt =  0.1\n",
    "\n",
    "# Solve using Forward Euler\n",
    "T_fE, Q_fE, P_fE = forward_euler(q0, p0, t0, tf, dt)\n",
    "\n",
    "# Solve using Symplectic Euler\n",
    "T_sE, Q_sE, P_sE = symplectic_euler(q0, p0, t0, tf, dt)\n",
    "\n",
    "# Exact solution\n",
    "T, Q, P = exact_solution(q0, p0, t0, tf, dt/100)"
   ]
  },
  {
   "cell_type": "code",
   "execution_count": null,
   "id": "56",
   "metadata": {},
   "outputs": [],
   "source": [
    "# Plotting\n",
    "plt.plot(T,    Q,    'k-',  label='Exact Solution')\n",
    "plt.plot(T_fE, Q_fE, 'r--', label='Forward Euler')\n",
    "plt.plot(T_sE, Q_sE, 'b-o', label='Symplectic Euler')\n",
    "plt.xlabel('Time t')\n",
    "plt.ylabel('Position q(t)')\n",
    "plt.legend()\n",
    "plt.grid(True)"
   ]
  },
  {
   "cell_type": "markdown",
   "id": "57",
   "metadata": {},
   "source": [
    "It is also useful to look at the total energy:"
   ]
  },
  {
   "cell_type": "code",
   "execution_count": null,
   "id": "58",
   "metadata": {},
   "outputs": [],
   "source": [
    "def energy(Q, P, m=1, k=1):\n",
    "    return P*P/(2*m) + Q*Q*(k/2)"
   ]
  },
  {
   "cell_type": "code",
   "execution_count": null,
   "id": "59",
   "metadata": {},
   "outputs": [],
   "source": [
    "plt.figure(figsize=(12, 6))\n",
    "plt.plot(T,    energy(Q, P),       'k-',  label='Exact Solution')\n",
    "plt.plot(T_fE, energy(Q_fE, P_fE), 'r--', label='Forward Euler')\n",
    "plt.plot(T_sE, energy(Q_sE, P_sE), 'b-o', label='Symplectic Euler')\n",
    "plt.xlabel('Time t')\n",
    "plt.ylabel('Position q(t)')\n",
    "plt.legend()\n",
    "plt.grid(True)"
   ]
  },
  {
   "cell_type": "markdown",
   "id": "60",
   "metadata": {},
   "source": [
    "From the above plot, we observe:\n",
    "* Forward Euler Method:\n",
    "  * Behavior: Deviates significantly from the exact solution over time, exhibiting growing oscillations.\n",
    "  * Reason: Non-symplectic nature causes energy to accumulate or dissipate artificially.\n",
    "* Symplectic Euler Method:\n",
    "  * Behavior: Maintains bounded energy errors, resulting in stable, oscillatory trajectories that closely follow the exact solution.\n",
    "  * Reason: Preservation of the symplectic structure ensures that energy errors do not systematically drift."
   ]
  },
  {
   "cell_type": "markdown",
   "id": "61",
   "metadata": {},
   "source": [
    "### Leapfrog/Verlet Integration\n",
    "\n",
    "The Leapfrog Integration method is another popular symplectic integrator renowned for its simplicity and excellent energy conservation properties. The method is known by different names in different disciplines.\n",
    "In particular, it is similar to the velocity Verlet method, which is a variant of Verlet integration.\n",
    "Leapfrog integration is equivalent to updating positions $x(t)$ and velocities $v(t)={\\dot {x}}(t)$ at different interleaved time points, staggered in such a way that they \"leapfrog\" over each other.\n",
    "It is widely used in molecular dynamics simulations and celestial mechanics.\n",
    "\n",
    "Leapfrog integration is a second-order method, in contrast to Euler integration, which is only first-order, yet requires the same number of function evaluations per step.\n",
    "Unlike Euler integration, it is stable for oscillatory motion, as long as the time-step $\\Delta t$ is constant, and $\\Delta t < 2/\\omega$."
   ]
  },
  {
   "cell_type": "markdown",
   "id": "62",
   "metadata": {},
   "source": [
    "The leapfrog method has multiple form.\n",
    "The most standard form updates positions and velocities in a staggered manner:\n",
    "\\begin{align}\n",
    "p_{n+1/2} &= p_{n-1/2} - \\frac{\\partial V}{\\partial q}(q_n)\\,\\Delta t,\\\\\n",
    "q_{n+1}   &= q_{n}     + \\frac{1}{m} p_{n+1/2}             \\,\\Delta t.\n",
    "\\end{align}\n",
    "\n",
    "It is possible to express the above equations in a form with integer steps velocity:\n",
    "\\begin{align}\n",
    "q_{n+1} &= q_n + \\frac{1}{m}p_n \\Delta t + \\frac{1}{2m} f_n \\Delta t^2, \\\\\n",
    "f_{n+1} &= -\\frac{\\partial V}{\\partial q}(q_{n+1}), \\\\\n",
    "p_{n+1} &= p_n + \\frac{1}{2} (f_n + f_{n+1}) \\Delta t.\n",
    "\\end{align}\n",
    "In this synchronized form, the time-step $\\Delta t$ must remain constant to maintain stability.\n",
    "\n",
    "It is also possible to re-arrange this synchronised form to the 'kick-drift-kick' form\n",
    "\\begin{align}\n",
    "p_{n+1/2} &= p_n       + \\frac{1}{2} f_n       \\Delta t, \\\\\n",
    "q_{n+1}   &= q_n       + \\frac{1}{m} p_{n+1/2} \\Delta t, \\\\\n",
    "p_{n+1}   &= p_{n+1/2} + \\frac{1}{2} f_{n+1}   \\Delta t.\n",
    "\\end{align}\n",
    "which is espeically useful for variable time-steps.\n",
    "\n",
    "The acceleration calculation at the beginning and end of a step has two implications.\n",
    "First, it is possible to save an end calculation and reuse it for the beginning of the next step.\n",
    "Second, when the step size is decreased by a factor of two, only one acceleration calculation at the end is required."
   ]
  },
  {
   "cell_type": "markdown",
   "id": "63",
   "metadata": {},
   "source": [
    "The leapfrog method is second-order accuracy, hence more accurate than first-order methods like Symplectic Euler.\n",
    "It preserves the symplectic structure, ensuring bounded energy errors.\n",
    "It is also time-reversible, ensuring stable and accurate long-term simulations."
   ]
  },
  {
   "cell_type": "code",
   "execution_count": null,
   "id": "64",
   "metadata": {},
   "outputs": [],
   "source": [
    "# Leapfrog/Verlet Method\n",
    "\n",
    "def leapfrog(q0, p0, t0, tf, dt, m=1, k=1):\n",
    "    T = np.arange(t0, tf + dt, dt)\n",
    "    Q = np.zeros(len(T)) # allows indicing according to the equations\n",
    "    P = np.zeros(len(T))\n",
    "    F = np.zeros(len(T))\n",
    "    Q[0] = q0\n",
    "    P[0] = p0\n",
    "    F[0] = - k * q0\n",
    "\n",
    "    for i in range(1, len(T)):\n",
    "        # Update position\n",
    "        Q[i] = Q[i-1] + (1/m) * P[i-1] * dt + (0.5/m) * F[i-1] * dt*dt\n",
    "        # Compute new acceleration\n",
    "        F[i] = - k * Q[i]\n",
    "        # Update velocity\n",
    "        P[i] = P[i-1] + 0.5 * (F[i-1] + F[i]) * dt\n",
    "\n",
    "    return T, Q, P"
   ]
  },
  {
   "cell_type": "code",
   "execution_count": null,
   "id": "65",
   "metadata": {},
   "outputs": [],
   "source": [
    "# Initial momentum\n",
    "p0 = 0.0\n",
    "\n",
    "# Solve using Leapfrog/Verlet\n",
    "T_lf, Q_lf, P_lf = leapfrog(q0, p0, t0, tf, dt)"
   ]
  },
  {
   "cell_type": "code",
   "execution_count": null,
   "id": "66",
   "metadata": {},
   "outputs": [],
   "source": [
    "# Plotting\n",
    "plt.figure(figsize=(12, 6))\n",
    "plt.plot(T,    Q,    'k-',  label='Exact Solution')\n",
    "plt.plot(T_fE, Q_fE, 'r--', label='Forward Euler')\n",
    "plt.plot(T_sE, Q_sE, 'b-o', label='Symplectic Euler')\n",
    "plt.plot(T_lf, Q_lf, 'g-o', label='Leapfrog')\n",
    "plt.xlabel('Time t')\n",
    "plt.ylabel('Position q(t)')\n",
    "plt.legend()\n",
    "plt.grid(True)"
   ]
  },
  {
   "cell_type": "code",
   "execution_count": null,
   "id": "67",
   "metadata": {},
   "outputs": [],
   "source": [
    "plt.figure(figsize=(12, 6))\n",
    "plt.plot(T,    energy(Q, P),       'k-',  label='Exact Solution')\n",
    "plt.plot(T_fE, energy(Q_fE, P_fE), 'r--', label='Forward Euler')\n",
    "plt.plot(T_sE, energy(Q_sE, P_sE), 'b-o', label='Symplectic Euler')\n",
    "plt.plot(T_lf, energy(Q_lf, P_lf), 'g-o', label='Leapfrog')\n",
    "plt.xlabel('Time t')\n",
    "plt.ylabel('Position q(t)')\n",
    "plt.legend()\n",
    "plt.grid(True)"
   ]
  },
  {
   "cell_type": "markdown",
   "id": "68",
   "metadata": {},
   "source": [
    "Compared to forward Euler or even symplectic Euler, the leapfrog solution closely follows the exact solution with minimal deviation, demonstrating superior accuracy and stability."
   ]
  },
  {
   "cell_type": "markdown",
   "id": "69",
   "metadata": {},
   "source": [
    "### Derivation and Preservation of Symplectic Structure\n",
    "\n",
    "Understanding why symplectic integrators preserve the symplectic structure involves delving into their mathematical foundation.\n",
    "A symplectic integrator preserves the symplectic two-form, a geometric property of Hamiltonian systems that encodes the conservation laws and phase-space volume preservation.\n",
    "\n",
    "Let's derive the Explicit Symplectic Euler method and demonstrate its symplectic nature.\n",
    "\n",
    "Given Hamilton's equations:\n",
    "\\begin{align}\n",
    "\\frac{dq}{dt} = \\frac{\\partial H}{\\partial p}, \\quad \\frac{dp}{dt} = -\\frac{\\partial H}{\\partial q}\n",
    "\\end{align}\n",
    "\n",
    "For simplicity, consider the Hamiltonian:\n",
    "\\begin{align}\n",
    "H(q, p) = \\frac{p^2}{2m} + V(q)\n",
    "\\end{align}\n",
    "Thus,\n",
    "\\begin{align}\n",
    "\\frac{dq}{dt} = \\frac{p}{m}, \\quad \\frac{dp}{dt} = -V'(q)\n",
    "\\end{align}\n",
    "\n",
    "Explicit Symplectic Euler Update:\n",
    "1. Update Position:\n",
    "   \\begin{align}\n",
    "   q_{n+1} = q_n + \\Delta t \\cdot \\frac{p_n}{m}\n",
    "   \\end{align}\n",
    "2. Update Momentum:\n",
    "   \\begin{align}\n",
    "   p_{n+1} = p_n - \\Delta t \\cdot V'(q_n)\n",
    "   \\end{align}\n",
    "\n",
    "A numerical integrator is symplectic if its update map preserves the symplectic two-form $\\omega = dq \\wedge dp$.\n",
    "For the Explicit Symplectic Euler method, this preservation can be verified by examining the Jacobian matrix of the transformation:\n",
    "\\begin{align}\n",
    "J = \\begin{pmatrix}\n",
    "\\frac{\\partial q_{n+1}}{\\partial q_n} & \\frac{\\partial q_{n+1}}{\\partial p_n} \\\\\n",
    "\\frac{\\partial p_{n+1}}{\\partial q_n} & \\frac{\\partial p_{n+1}}{\\partial p_n}\n",
    "\\end{pmatrix}\n",
    "= \\begin{pmatrix}\n",
    "1 & \\frac{\\Delta t}{m} \\\\\n",
    "-\\Delta t \\cdot V''(q_n) & 1\n",
    "\\end{pmatrix}\n",
    "\\end{align}\n",
    "\n",
    "The symplectic condition requires that $J^T \\cdot \\Omega \\cdot J = \\Omega$, where $\\Omega$ is the standard symplectic matrix:\n",
    "\\begin{align}\n",
    "\\Omega = \\begin{pmatrix}\n",
    "0 & 1 \\\\\n",
    "-1 & 0\n",
    "\\end{pmatrix}\n",
    "\\end{align}\n",
    "\n",
    "Carrying out the matrix multiplication confirms that the Explicit Symplectic Euler method satisfies the symplectic condition, thereby preserving the symplectic structure."
   ]
  },
  {
   "cell_type": "markdown",
   "id": "70",
   "metadata": {},
   "source": [
    "### Geometric Interpretation\n",
    "\n",
    "Symplectic integrators can be viewed as discrete symplectic maps that transform the phase-space coordinates while preserving the symplectic form.\n",
    "This geometric viewpoint highlights their ability to maintain the qualitative features of Hamiltonian dynamics, such as conservation laws and invariant manifolds."
   ]
  },
  {
   "cell_type": "markdown",
   "id": "71",
   "metadata": {},
   "source": [
    "### Summary\n",
    "\n",
    "When implementing symplectic integrators, several practical considerations ensure their effectiveness:\n",
    "* Choosing Appropriate Time Steps: While symplectic integrators allow for larger time steps compared to non-symplectic methods, selecting an appropriate $\\Delta t$ remains crucial for capturing the system’s dynamics accurately.\n",
    "* Handling Nonlinear Forces: For systems with nonlinear potentials $V(q)$, implicit symplectic integrators may require solving nonlinear equations at each step, increasing computational complexity.\n",
    "* Combining with Other Techniques: Symplectic integrators can be combined with adaptive time-stepping or other numerical techniques to enhance their performance in complex systems.\n",
    "\n",
    "Symplectic integrators, such as the Symplectic Euler and Leapfrog/Verlet methods, play a crucial role in the numerical integration of Hamiltonian systems.\n",
    "Their ability to preserve the symplectic structure ensures that essential conservation laws, like energy conservation and phase-space volume preservation, are maintained over long simulations. This preservation leads to more accurate and stable solutions, particularly in systems where traditional explicit methods falter due to energy drift and instability."
   ]
  }
 ],
 "metadata": {
  "kernelspec": {
   "display_name": "Python 3",
   "language": "python",
   "name": "python3"
  },
  "language_info": {
   "codemirror_mode": {
    "name": "ipython",
    "version": 3
   },
   "file_extension": ".py",
   "mimetype": "text/x-python",
   "name": "python",
   "nbconvert_exporter": "python",
   "pygments_lexer": "ipython3",
   "version": "3.12.1"
  }
 },
 "nbformat": 4,
 "nbformat_minor": 5
}
