{
 "cells": [
  {
   "cell_type": "markdown",
   "id": "0",
   "metadata": {},
   "source": [
    "# ODE Lab III: Advanced Topics"
   ]
  },
  {
   "cell_type": "markdown",
   "id": "1",
   "metadata": {},
   "source": [
    "## The Double Pendulum Problem\n",
    "\n",
    "The double pendulum is a well known example of a non-linear, chaotic system in classical mechanics.\n",
    "It consists of a pendulum with another pendulum attached to its end, resulting in a system with two degrees of freedom.\n",
    "This configuration leads to highly complex and sensitive-dependent dynamics, making the double pendulum an excellent subject for studying chaos theory and non-linear dynamics.\n",
    "Because it is not possible to construct analytical solutions, it is also a great example to numerical integrators.\n",
    "\n",
    "![Double pendulum](https://upload.wikimedia.org/wikipedia/commons/c/c9/Double-compound-pendulum-dimensioned.svg)"
   ]
  },
  {
   "cell_type": "markdown",
   "id": "2",
   "metadata": {},
   "source": [
    "The equation of motion for double pendulum is pretty ugly.\n",
    "To set up the equations, we assume:\n",
    "\n",
    "* The two arms of the pendulums have the same length $l$.\n",
    "* The mass of each arm is $m$.\n",
    "* The angle between the first and second pendulums, with respect to the vertical axis, are denoted by $\\theta_1$ and $\\theta_2$.\n",
    "\n",
    "Newton's second law suggests that we will need to solve a system of two second-order ordinary differential equations (ODEs).\n",
    "Using the methods we learn in the lecture, we can cast the problem into a system of four first-order ODEs.\n",
    "\\begin{align}\n",
    "\\frac{d\\theta_1}{dt} &=\n",
    "\\frac{6}{m l^2}\\frac{2 p_1 - 3 \\cos(\\theta_1 - \\theta_2) p_2}{16 - 9 \\cos^2(\\theta_1 - \\theta_2)}\\\\\n",
    "\\frac{d\\theta_2}{dt} &=\n",
    "\\frac{6}{m l^2}\\frac{8 p_2 - 3 \\cos(\\theta_1 - \\theta_2) p_1}{16 - 9 \\cos^2(\\theta_1 - \\theta_2)}\\\\\n",
    "\\frac{dp_1}{dt} &=\n",
    "-\\frac{1}{2} m l^2 \\left(\\frac{d\\theta_1}{dt} \\frac{d\\theta_2}{dt}\\sin(\\theta_1 - \\theta_2) +\n",
    "                           3\\frac{g}{l}\\sin\\theta_1\\right)\\\\\n",
    "\\frac{dp_2}{dt} &=\n",
    "-\\frac{1}{2} m l^2 \\left(-\\frac{d\\theta_1}{dt} \\frac{d\\theta_2}{dt}\\sin(\\theta_1 - \\theta_2) +\n",
    "                            \\frac{g}{l}\\sin\\theta_2\\right)\n",
    "\\end{align}\n",
    "where $p_1$ and $p_2$ are called the generalized momenta.\n",
    "(There might be typos in the equation.\n",
    "Please [double check](https://en.wikipedia.org/wiki/Double_pendulum).)"
   ]
  },
  {
   "cell_type": "markdown",
   "id": "3",
   "metadata": {},
   "source": [
    "It would be impossible to implement this in a few minutes as a hands-on exercise!\n",
    "\n",
    "Thankfully, we have just learned computational Lagrangian mechanics in class using autodiff and ODE integrator.\n",
    "The Lagrangian of the double pendulum system is:\n",
    "\\begin{align}\n",
    "L \n",
    "  &= \\frac{1}{2} m\\left(v_1^2 + v_2^2\\right)\n",
    "   + \\frac{1}{2}I\\left(\\dot\\theta_1^2 + \\dot\\theta_2^2\\right) - mg (y_1 + y_2) \\\\\n",
    "  &= \\frac{1}{6} m l^2 \\left(4\\dot\\theta_1^2 + \\dot\\theta_2^2 + 3\\dot\\theta_1\\dot\\theta_2\\cos(\\theta_1 - \\theta_2)\\right)\n",
    "   + \\frac{1}{2} mgl \\left(3\\cos\\theta_1 + \\cos\\theta_2\\right)\n",
    "\\end{align}\n",
    "We will use this to implement a solver in this hands-on lab."
   ]
  },
  {
   "cell_type": "code",
   "execution_count": 30,
   "id": "4",
   "metadata": {},
   "outputs": [
    {
     "name": "stderr",
     "output_type": "stream",
     "text": [
      "/usr/local/python/3.12.1/lib/python3.12/pty.py:95: RuntimeWarning: os.fork() was called. os.fork() is incompatible with multithreaded code, and JAX is multithreaded, so this will likely lead to a deadlock.\n",
      "  pid, fd = os.forkpty()\n",
      "/usr/local/python/3.12.1/lib/python3.12/pty.py:95: RuntimeWarning: os.fork() was called. os.fork() is incompatible with multithreaded code, and JAX is multithreaded, so this will likely lead to a deadlock.\n",
      "  pid, fd = os.forkpty()\n",
      "2612.36s - pydevd: Sending message related to process being replaced timed-out after 5 seconds\n"
     ]
    },
    {
     "name": "stdout",
     "output_type": "stream",
     "text": [
      "Requirement already satisfied: jax in /usr/local/python/3.12.1/lib/python3.12/site-packages (0.5.0)\n",
      "Requirement already satisfied: jaxlib<=0.5.0,>=0.5.0 in /usr/local/python/3.12.1/lib/python3.12/site-packages (from jax) (0.5.0)\n",
      "Requirement already satisfied: ml_dtypes>=0.4.0 in /usr/local/python/3.12.1/lib/python3.12/site-packages (from jax) (0.5.1)\n",
      "Requirement already satisfied: numpy>=1.25 in /home/codespace/.local/lib/python3.12/site-packages (from jax) (2.2.3)\n",
      "Requirement already satisfied: opt_einsum in /usr/local/python/3.12.1/lib/python3.12/site-packages (from jax) (3.4.0)\n",
      "Requirement already satisfied: scipy>=1.11.1 in /home/codespace/.local/lib/python3.12/site-packages (from jax) (1.15.1)\n",
      "\n",
      "\u001b[1m[\u001b[0m\u001b[34;49mnotice\u001b[0m\u001b[1;39;49m]\u001b[0m\u001b[39;49m A new release of pip is available: \u001b[0m\u001b[31;49m24.3.1\u001b[0m\u001b[39;49m -> \u001b[0m\u001b[32;49m25.0.1\u001b[0m\n",
      "\u001b[1m[\u001b[0m\u001b[34;49mnotice\u001b[0m\u001b[1;39;49m]\u001b[0m\u001b[39;49m To update, run: \u001b[0m\u001b[32;49mpython3 -m pip install --upgrade pip\u001b[0m\n"
     ]
    }
   ],
   "source": [
    "! pip install jax"
   ]
  },
  {
   "cell_type": "code",
   "execution_count": 31,
   "id": "5",
   "metadata": {},
   "outputs": [],
   "source": [
    "import jax\n",
    "jax.config.update(\"jax_enable_x64\", True)"
   ]
  },
  {
   "cell_type": "code",
   "execution_count": 32,
   "id": "6",
   "metadata": {},
   "outputs": [],
   "source": [
    "from jax import numpy as np"
   ]
  },
  {
   "cell_type": "code",
   "execution_count": 33,
   "id": "7",
   "metadata": {},
   "outputs": [],
   "source": [
    "# Step 1. Copy an ODE Integrator from the class note\n",
    "a =[\n",
    "    [],\n",
    "    [1/5],\n",
    "    [3/40, 9/40],\n",
    "    [44/45, -56/15, 32/9],\n",
    "    [19372/6561, -25360/2187, 64448/6561, -212/729],\n",
    "    [9017/3168, -355/33, 46732/5247, 49/176, -5103/18656],\n",
    "    [35/384, 0, 500/1113, 125/192, -2187/6784, 11/84],\n",
    "]\n",
    "\n",
    "b_high = [35/384, 0, 500/1113, 125/192, -2187/6784, 11/84, 0] # Fifth-order accurate solution estimate\n",
    "b_low  = [5179/57600, 0, 7571/16695, 393/640, -92097/339200, 187/2100, 1/40] # Fourth-order accurate solution estimate\n",
    "\n",
    "c = [0, 1/5, 3/10, 4/5, 8/9, 1, 1]\n",
    "def DP45_step(f, x, t, dt):\n",
    "        # Compute intermediate k1 to k7\n",
    "    k1 = f(x)\n",
    "    k2 = f(x + dt*(a[1][0]*k1))\n",
    "    k3 = f(x + dt*(a[2][0]*k1 + a[2][1]*k2))\n",
    "    k4 = f(x + dt*(a[3][0]*k1 + a[3][1]*k2 + a[3][2]*k3))\n",
    "    k5 = f(x + dt*(a[4][0]*k1 + a[4][1]*k2 + a[4][2]*k3 + a[4][3]*k4))\n",
    "    k6 = f(x + dt*(a[5][0]*k1 + a[5][1]*k2 + a[5][2]*k3 + a[5][3]*k4 + a[5][4]*k5))\n",
    "    k7 = f(x + dt*(a[6][0]*k1 + a[6][1]*k2 + a[6][2]*k3 + a[6][3]*k4 + a[6][4]*k5 + a[6][5]*k6))\n",
    "\n",
    "    ks = [k1, k2, k3, k4, k5, k6, k7]\n",
    "\n",
    "    # Compute high and low order estimates\n",
    "    x_high = x\n",
    "    for b, k in zip(b_high, ks):\n",
    "        x_high += dt * b * k\n",
    "\n",
    "    x_low  = x \n",
    "    for b, k in zip(b_low, ks):\n",
    "        x_low += dt * b * k\n",
    "\n",
    "    return x_high, x_low, ks\n",
    "\n",
    "def dt_update(dt, error, tol, fac=0.9, fac_min=0.1, fac_max=4.0, alpha=0.2):\n",
    "    if error == 0:\n",
    "        s = fac_max\n",
    "    else:\n",
    "        s = fac * (tol / error) ** alpha\n",
    "    s = min(fac_max, max(fac_min, s))\n",
    "    dt_new = dt * s\n",
    "    return dt_new\n",
    "\n",
    "def odeint(f, x0, t0, t1, dt=0.1, atol=1e-6, rtol=1e-6):\n",
    "    Ts = [t0]\n",
    "    Xs = [np.array(x0)]\n",
    "\n",
    "    while t0 < t1:\n",
    "        if t0 + dt > t1:\n",
    "            dt = t1 - t0  # Adjust step size to end exactly at tf\n",
    "\n",
    "        # Perform a single Dormand–Prince step\n",
    "        x_high, x_low, _ = DP45_step(f, x0, t0, dt)\n",
    "\n",
    "        # Compute the error estimate\n",
    "        error = np.linalg.norm(x_high - x_low, ord=np.inf)\n",
    "\n",
    "        # Compute the tolerance\n",
    "        tol = atol + rtol * np.linalg.norm(x_high, ord=np.inf)\n",
    "\n",
    "        # Check if the step is acceptable\n",
    "        if error <= tol:\n",
    "            # Accept the step\n",
    "            t0 += dt\n",
    "            x0 = x_high\n",
    "            Ts.append(t0)\n",
    "            Xs.append(x0)\n",
    "\n",
    "        # Compute the new step size\n",
    "        dt = dt_update(dt, error, tol)\n",
    "\n",
    "    return np.array(Ts), np.array(Xs)"
   ]
  },
  {
   "cell_type": "code",
   "execution_count": 34,
   "id": "8",
   "metadata": {},
   "outputs": [],
   "source": [
    "# Step 2. Copy ELrhs() from the class note\n",
    "from jax import grad, jacfwd, jit\n",
    "from jax.numpy.linalg import inv\n",
    "def ELrhs(L):\n",
    "    Lx  = grad(L, argnums=0)\n",
    "    Lv  = grad(L, argnums=1)\n",
    "    Lvp = jacfwd(Lv, argnums=(0,1))\n",
    "\n",
    "    @jit\n",
    "    def rhs(xv):\n",
    "        x,   v   = xv\n",
    "        Lvx, Lvv = Lvp(x, v)\n",
    "        a = inv(Lvv) @ (Lx(x, v) - v @ Lvx)\n",
    "        return np.array([v, a])\n",
    "\n",
    "    return rhs"
   ]
  },
  {
   "cell_type": "code",
   "execution_count": 35,
   "id": "9",
   "metadata": {},
   "outputs": [],
   "source": [
    "# Step 3. Combine ELrhs() with the ODE Integrator.  See, e.g., path() from class\n",
    "\n",
    "def path(L, xv0, t0, t1, dt=0.1, atol=1e-6, rtol=1e-6):\n",
    "    return odeint(ELrhs(L), xv0, t0, t1, dt, atol, rtol) # <- make sure it is compatible with the ODE integrator you choose"
   ]
  },
  {
   "cell_type": "code",
   "execution_count": 36,
   "id": "10",
   "metadata": {},
   "outputs": [],
   "source": [
    "# Step 4. Implement the Lagrangian of the double pendulum\n",
    "\n",
    "def L(x, v):\n",
    "    x1, x2 = x\n",
    "    v1, v2 = v\n",
    "    return np.sum((1/6)*(4*v1**2+v2**2+3*v1*v2*np.cos(x1-x2))+(1/2)*(3*np.cos(x1)+np.cos(x2)))"
   ]
  },
  {
   "cell_type": "code",
   "execution_count": 39,
   "id": "11",
   "metadata": {},
   "outputs": [],
   "source": [
    "# Step 5. Use path() to solve the problem\n",
    "\n",
    "xv0   = np.array([[np.pi/2,np.pi/3], [0.0,0.0]])\n",
    "T, XV = path(L, xv0, 0.0, 10.0)\n",
    "\n",
    "X = XV[:,0,:]\n",
    "V = XV[:,1,:]"
   ]
  },
  {
   "cell_type": "code",
   "execution_count": 40,
   "id": "12",
   "metadata": {},
   "outputs": [
    {
     "data": {
      "text/plain": [
       "[<matplotlib.lines.Line2D at 0x7a50043ceb10>,\n",
       " <matplotlib.lines.Line2D at 0x7a50043cf050>]"
      ]
     },
     "execution_count": 40,
     "metadata": {},
     "output_type": "execute_result"
    },
    {
     "data": {
      "image/png": "[encoded data removed]",
      "text/plain": [
       "<Figure size 640x480 with 1 Axes>"
      ]
     },
     "metadata": {},
     "output_type": "display_data"
    }
   ],
   "source": [
    "# Step 6. Plot the result\n",
    "from matplotlib import pyplot as plt\n",
    "\n",
    "plt.plot(T, X)\n"
   ]
  },
  {
   "cell_type": "code",
   "execution_count": 26,
   "id": "13",
   "metadata": {},
   "outputs": [
    {
     "ename": "NameError",
     "evalue": "name 'plt' is not defined",
     "output_type": "error",
     "traceback": [
      "\u001b[0;31m---------------------------------------------------------------------------\u001b[0m",
      "\u001b[0;31mNameError\u001b[0m                                 Traceback (most recent call last)",
      "Cell \u001b[0;32mIn[26], line 6\u001b[0m\n\u001b[1;32m      3\u001b[0m \u001b[38;5;28;01mfrom\u001b[39;00m\u001b[38;5;250m \u001b[39m\u001b[38;5;21;01mmatplotlib\u001b[39;00m\u001b[38;5;250m \u001b[39m\u001b[38;5;28;01mimport\u001b[39;00m animation\n\u001b[1;32m      4\u001b[0m \u001b[38;5;28;01mfrom\u001b[39;00m\u001b[38;5;250m \u001b[39m\u001b[38;5;21;01mIPython\u001b[39;00m\u001b[38;5;21;01m.\u001b[39;00m\u001b[38;5;21;01mdisplay\u001b[39;00m\u001b[38;5;250m \u001b[39m\u001b[38;5;28;01mimport\u001b[39;00m HTML\n\u001b[0;32m----> 6\u001b[0m fig \u001b[38;5;241m=\u001b[39m \u001b[43mplt\u001b[49m\u001b[38;5;241m.\u001b[39mfigure(figsize\u001b[38;5;241m=\u001b[39m(\u001b[38;5;241m8\u001b[39m,\u001b[38;5;241m8\u001b[39m))\n\u001b[1;32m      7\u001b[0m ax  \u001b[38;5;241m=\u001b[39m plt\u001b[38;5;241m.\u001b[39maxes(xlim\u001b[38;5;241m=\u001b[39m(\u001b[38;5;241m-\u001b[39m\u001b[38;5;241m2.5\u001b[39m, \u001b[38;5;241m2.5\u001b[39m), ylim\u001b[38;5;241m=\u001b[39m(\u001b[38;5;241m-\u001b[39m\u001b[38;5;241m2.5\u001b[39m, \u001b[38;5;241m2.5\u001b[39m))\n\u001b[1;32m      8\u001b[0m ax\u001b[38;5;241m.\u001b[39mset_aspect(\u001b[38;5;124m'\u001b[39m\u001b[38;5;124mequal\u001b[39m\u001b[38;5;124m'\u001b[39m)\n",
      "\u001b[0;31mNameError\u001b[0m: name 'plt' is not defined"
     ]
    }
   ],
   "source": [
    "# Step 7. Animate the result\n",
    "\n",
    "from matplotlib import animation\n",
    "from IPython.display import HTML\n",
    "\n",
    "fig = plt.figure(figsize=(8,8))\n",
    "ax  = plt.axes(xlim=(-2.5, 2.5), ylim=(-2.5, 2.5))\n",
    "ax.set_aspect('equal')\n",
    "\n",
    "line, = ax.plot([], [], 'o-', lw=2)\n",
    "\n",
    "def init():\n",
    "    line.set_data([], [])\n",
    "    return line,\n",
    "\n",
    "def animate(i):\n",
    "    th1 = X[i,0]\n",
    "    th2 = X[i,1]\n",
    "\n",
    "    x1 =   np.sin(th1)\n",
    "    y1 = - np.cos(th1)\n",
    "\n",
    "    x2 =   np.sin(th2)\n",
    "    y2 = - np.cos(th2)\n",
    "\n",
    "    line.set_data([0, x1, x1+x2], [0, y1, y1+y2])\n",
    "    return line,\n",
    "\n",
    "anim = animation.FuncAnimation(fig, animate, init_func=init, frames=len(T), interval=20, blit=True)\n",
    "\n",
    "plt.close()\n",
    "\n",
    "HTML(anim.to_html5_video())"
   ]
  }
 ],
 "metadata": {
  "kernelspec": {
   "display_name": "Python 3",
   "language": "python",
   "name": "python3"
  },
  "language_info": {
   "codemirror_mode": {
    "name": "ipython",
    "version": 3
   },
   "file_extension": ".py",
   "mimetype": "text/x-python",
   "name": "python",
   "nbconvert_exporter": "python",
   "pygments_lexer": "ipython3",
   "version": "3.12.1"
  }
 },
 "nbformat": 4,
 "nbformat_minor": 5
}
